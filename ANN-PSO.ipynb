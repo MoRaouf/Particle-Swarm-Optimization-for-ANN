{
 "cells": [
  {
   "cell_type": "markdown",
   "metadata": {},
   "source": [
    "# \"PSO Algorithm for training ANNs\"\n",
    "> \"Training ANNs using Particle Swarm Optimization algorithm\"\n"
   ]
  },
  {
   "cell_type": "markdown",
   "metadata": {
    "cell_id": "00001-d4ec1c5c-c079-4cfa-bdd0-534c6e6edcac",
    "deepnote_cell_type": "text-cell-h1",
    "is_collapsed": false,
    "tags": []
   },
   "source": [
    "## Particle Swarm Optimization Algorithm"
   ]
  },
  {
   "cell_type": "code",
   "execution_count": 1,
   "metadata": {
    "cell_id": "00001-bb76981d-eefc-4a4f-b13d-1e1458a46bfc",
    "deepnote_cell_type": "code",
    "deepnote_to_be_reexecuted": false,
    "execution_millis": 525,
    "execution_start": 1637615807255,
    "source_hash": "eba39436",
    "tags": []
   },
   "outputs": [],
   "source": [
    "import numpy as np\n",
    "import pandas as pd\n",
    "import matplotlib.pyplot as plt\n",
    "import time\n",
    "\n",
    "np.random.seed(10)"
   ]
  },
  {
   "cell_type": "code",
   "execution_count": 2,
   "metadata": {},
   "outputs": [],
   "source": [
    "def objective_fucntion(x):\n",
    "    y = np.sum(x **2)\n",
    "    return y"
   ]
  },
  {
   "cell_type": "code",
   "execution_count": 3,
   "metadata": {},
   "outputs": [],
   "source": [
    "def objective_fucntion_group(x):\n",
    "    y = np.sum(x **2, axis = 1)\n",
    "    return y"
   ]
  },
  {
   "cell_type": "code",
   "execution_count": 4,
   "metadata": {
    "cell_id": "00003-4813a729-880b-4dc2-9bb5-bdaabd8fd39f",
    "deepnote_cell_type": "code",
    "deepnote_to_be_reexecuted": false,
    "execution_millis": 0,
    "execution_start": 1637615807831,
    "source_hash": "5034628",
    "tags": []
   },
   "outputs": [],
   "source": [
    "#PSO parameters\n",
    "p = 10\n",
    "c1 = 1.5\n",
    "c2 = 1\n",
    "c3 = 1.5 \n",
    "iterations = 3000 \n",
    "w1 = 0.9 - ((0.9-0.4)/iterations)*np.linspace(0, iterations, iterations)\n",
    "w2 = 0.5\n",
    "d = 5\n",
    "n_informants = 3"
   ]
  },
  {
   "cell_type": "code",
   "execution_count": 5,
   "metadata": {
    "cell_id": "00007-e09ef483-331a-4fcf-a9a3-1599f252e440",
    "deepnote_cell_type": "code",
    "deepnote_to_be_reexecuted": false,
    "execution_millis": 1,
    "execution_start": 1637615807834,
    "source_hash": "d7cfe588",
    "tags": []
   },
   "outputs": [],
   "source": [
    "particles = np.random.uniform(size = (p, d))\n",
    "V = np.random.uniform(size = (p, d))\n",
    "\n",
    "costs = np.zeros((p,1))\n",
    "costs = objective_fucntion_group(particles)\n",
    "\n",
    "pbest = np.copy(particles)\n",
    "pbest_cost = np.copy(costs)\n",
    "\n",
    "gbest = pbest[pbest_cost.argmin(), :]\n",
    "gbest_cost = pbest_cost.min()\n",
    "\n",
    "overall_best_cost = np.zeros((iterations, 1))"
   ]
  },
  {
   "cell_type": "code",
   "execution_count": 6,
   "metadata": {
    "cell_id": "00005-99d35f4a-5318-4802-9188-b635fbdcb181",
    "deepnote_cell_type": "code",
    "deepnote_output_heights": [
     21.199996948242188
    ],
    "deepnote_to_be_reexecuted": false,
    "execution_millis": 5,
    "execution_start": 1637615807842,
    "source_hash": "96db9b6f",
    "tags": []
   },
   "outputs": [
    {
     "data": {
      "text/plain": [
       "array([0.22479665, 0.19806286, 0.76053071, 0.16911084, 0.08833981])"
      ]
     },
     "execution_count": 6,
     "metadata": {},
     "output_type": "execute_result"
    }
   ],
   "source": [
    "gbest"
   ]
  },
  {
   "cell_type": "code",
   "execution_count": 7,
   "metadata": {
    "cell_id": "00007-d7e7eebf-b2ed-4031-bd9e-e4d7435a8048",
    "deepnote_cell_type": "code",
    "deepnote_to_be_reexecuted": false,
    "execution_millis": 1,
    "execution_start": 1637615807848,
    "source_hash": "d0dd150b",
    "tags": []
   },
   "outputs": [],
   "source": [
    "informants = {}\n",
    "for i in range(1, len(particles) +1):\n",
    "    informants[\"p\"+str(i)] = particles[np.random.choice(particles.shape[0], n_informants, replace=False)]\n",
    "    \n",
    "informants_indices = {}\n",
    "for i in range(1, len(particles) +1):\n",
    "    informants_indices[\"p\"+str(i)] = np.random.choice(particles.shape[0], n_informants, replace=False)"
   ]
  },
  {
   "cell_type": "code",
   "execution_count": 8,
   "metadata": {},
   "outputs": [
    {
     "data": {
      "text/plain": [
       "{'p1': array([7, 8, 2]),\n",
       " 'p2': array([0, 4, 6]),\n",
       " 'p3': array([6, 5, 9]),\n",
       " 'p4': array([3, 1, 4]),\n",
       " 'p5': array([4, 9, 2]),\n",
       " 'p6': array([8, 7, 6]),\n",
       " 'p7': array([3, 6, 7]),\n",
       " 'p8': array([2, 8, 1]),\n",
       " 'p9': array([8, 5, 7]),\n",
       " 'p10': array([8, 7, 0])}"
      ]
     },
     "execution_count": 8,
     "metadata": {},
     "output_type": "execute_result"
    }
   ],
   "source": [
    "informants_indices"
   ]
  },
  {
   "cell_type": "code",
   "execution_count": 9,
   "metadata": {
    "cell_id": "00007-e24a6183-4afd-4017-bef7-74015b500b7e",
    "deepnote_cell_type": "code",
    "deepnote_output_heights": [
     578
    ],
    "deepnote_to_be_reexecuted": false,
    "execution_millis": 9,
    "execution_start": 1637615807857,
    "source_hash": "6473fbdb",
    "tags": []
   },
   "outputs": [
    {
     "data": {
      "text/plain": [
       "{'p1': array([[0.30070006, 0.11398436, 0.82868133, 0.04689632, 0.62628715],\n",
       "        [0.8052232 , 0.52164715, 0.90864888, 0.31923609, 0.09045935],\n",
       "        [0.68535982, 0.95339335, 0.00394827, 0.51219226, 0.81262096]]),\n",
       " 'p2': array([[0.68535982, 0.95339335, 0.00394827, 0.51219226, 0.81262096],\n",
       "        [0.30070006, 0.11398436, 0.82868133, 0.04689632, 0.62628715],\n",
       "        [0.8052232 , 0.52164715, 0.90864888, 0.31923609, 0.09045935]]),\n",
       " 'p3': array([[0.54254437, 0.14217005, 0.37334076, 0.67413362, 0.44183317],\n",
       "        [0.61252607, 0.72175532, 0.29187607, 0.91777412, 0.71457578],\n",
       "        [0.68535982, 0.95339335, 0.00394827, 0.51219226, 0.81262096]]),\n",
       " 'p4': array([[0.54254437, 0.14217005, 0.37334076, 0.67413362, 0.44183317],\n",
       "        [0.68535982, 0.95339335, 0.00394827, 0.51219226, 0.81262096],\n",
       "        [0.43401399, 0.61776698, 0.51313824, 0.65039718, 0.60103895]]),\n",
       " 'p5': array([[0.61252607, 0.72175532, 0.29187607, 0.91777412, 0.71457578],\n",
       "        [0.30070006, 0.11398436, 0.82868133, 0.04689632, 0.62628715],\n",
       "        [0.22479665, 0.19806286, 0.76053071, 0.16911084, 0.08833981]]),\n",
       " 'p6': array([[0.54254437, 0.14217005, 0.37334076, 0.67413362, 0.44183317],\n",
       "        [0.43401399, 0.61776698, 0.51313824, 0.65039718, 0.60103895],\n",
       "        [0.54758616, 0.819287  , 0.19894754, 0.8568503 , 0.35165264]]),\n",
       " 'p7': array([[0.61252607, 0.72175532, 0.29187607, 0.91777412, 0.71457578],\n",
       "        [0.22479665, 0.19806286, 0.76053071, 0.16911084, 0.08833981],\n",
       "        [0.75464769, 0.29596171, 0.88393648, 0.32551164, 0.1650159 ]]),\n",
       " 'p8': array([[0.54254437, 0.14217005, 0.37334076, 0.67413362, 0.44183317],\n",
       "        [0.22479665, 0.19806286, 0.76053071, 0.16911084, 0.08833981],\n",
       "        [0.61252607, 0.72175532, 0.29187607, 0.91777412, 0.71457578]]),\n",
       " 'p9': array([[0.30070006, 0.11398436, 0.82868133, 0.04689632, 0.62628715],\n",
       "        [0.54758616, 0.819287  , 0.19894754, 0.8568503 , 0.35165264],\n",
       "        [0.8052232 , 0.52164715, 0.90864888, 0.31923609, 0.09045935]]),\n",
       " 'p10': array([[0.54758616, 0.819287  , 0.19894754, 0.8568503 , 0.35165264],\n",
       "        [0.30070006, 0.11398436, 0.82868133, 0.04689632, 0.62628715],\n",
       "        [0.61252607, 0.72175532, 0.29187607, 0.91777412, 0.71457578]])}"
      ]
     },
     "execution_count": 9,
     "metadata": {},
     "output_type": "execute_result"
    }
   ],
   "source": [
    "informants"
   ]
  },
  {
   "cell_type": "code",
   "execution_count": 10,
   "metadata": {
    "cell_id": "00007-3056599b-5391-477a-9801-0a7c9e93cc3a",
    "deepnote_cell_type": "code",
    "deepnote_to_be_reexecuted": false,
    "execution_millis": 4,
    "execution_start": 1637615807871,
    "source_hash": "f5ba5798",
    "tags": []
   },
   "outputs": [],
   "source": [
    "lbest = []\n",
    "lbest_cost = []\n",
    "\n",
    "for p in informants:\n",
    "    local_informants = informants[p]\n",
    "    l_costs = objective_fucntion_group(local_informants)\n",
    "    lbest.append(local_informants[l_costs.argmin(), :])\n",
    "    lbest_cost.append(l_costs.min())\n",
    "    \n",
    "lbest = np.array(lbest)\n",
    "lbest_cost = np.array(lbest_cost)"
   ]
  },
  {
   "cell_type": "code",
   "execution_count": 11,
   "metadata": {},
   "outputs": [
    {
     "data": {
      "text/plain": [
       "array([[0.30070006, 0.11398436, 0.82868133, 0.04689632, 0.62628715],\n",
       "       [0.30070006, 0.11398436, 0.82868133, 0.04689632, 0.62628715],\n",
       "       [0.54254437, 0.14217005, 0.37334076, 0.67413362, 0.44183317],\n",
       "       [0.54254437, 0.14217005, 0.37334076, 0.67413362, 0.44183317],\n",
       "       [0.22479665, 0.19806286, 0.76053071, 0.16911084, 0.08833981],\n",
       "       [0.54254437, 0.14217005, 0.37334076, 0.67413362, 0.44183317],\n",
       "       [0.22479665, 0.19806286, 0.76053071, 0.16911084, 0.08833981],\n",
       "       [0.22479665, 0.19806286, 0.76053071, 0.16911084, 0.08833981],\n",
       "       [0.30070006, 0.11398436, 0.82868133, 0.04689632, 0.62628715],\n",
       "       [0.30070006, 0.11398436, 0.82868133, 0.04689632, 0.62628715]])"
      ]
     },
     "execution_count": 11,
     "metadata": {},
     "output_type": "execute_result"
    }
   ],
   "source": [
    "lbest"
   ]
  },
  {
   "cell_type": "code",
   "execution_count": 12,
   "metadata": {},
   "outputs": [],
   "source": [
    "def update_informants(local_informnts_indices, X):\n",
    "    \n",
    "    local_informnts_indices = list(local_informnts_indices)\n",
    "    new_local_informants = X[local_informnts_indices , :]\n",
    "    \n",
    "    return new_local_informants"
   ]
  },
  {
   "cell_type": "markdown",
   "metadata": {},
   "source": [
    "## PSO without Informants"
   ]
  },
  {
   "cell_type": "code",
   "execution_count": 13,
   "metadata": {},
   "outputs": [],
   "source": [
    "X = np.copy(particles)\n",
    "\n",
    "for i in range(iterations):\n",
    "    for j in range(10):\n",
    "        V[j] = w1[i] * V[j] + c1 * np.random.rand(d) * (pbest[j] - X[j])+ c3 * np.random.rand(d) * (gbest - X[j])\n",
    "\n",
    "        X[j] = X[j] + V[j]\n",
    "\n",
    "        costs[j] = objective_fucntion(X[j])\n",
    "\n",
    "        if costs[j] < pbest_cost[j]:\n",
    "            pbest[j] = X[j]\n",
    "            pbest_cost[j] = costs[j]\n",
    "            if costs[j] < gbest_cost:\n",
    "                gbest = X[j]\n",
    "                gbest_cost = costs[j]\n",
    "    \n",
    "    overall_best_cost[i] = gbest_cost"
   ]
  },
  {
   "cell_type": "code",
   "execution_count": 14,
   "metadata": {},
   "outputs": [
    {
     "data": {
      "text/plain": [
       "array([-1.43505619e-94,  2.95694915e-94,  3.36451706e-94, -1.63339754e-94,\n",
       "       -2.10542732e-94])"
      ]
     },
     "execution_count": 14,
     "metadata": {},
     "output_type": "execute_result"
    }
   ],
   "source": [
    "pso_global = gbest\n",
    "pso_global"
   ]
  },
  {
   "cell_type": "code",
   "execution_count": 15,
   "metadata": {},
   "outputs": [
    {
     "data": {
      "text/plain": [
       "Text(0.5, 1.0, 'PSO without Informants')"
      ]
     },
     "execution_count": 15,
     "metadata": {},
     "output_type": "execute_result"
    },
    {
     "data": {
      "image/png": "[encoded data removed]",
      "text/plain": [
       "<Figure size 720x720 with 1 Axes>"
      ]
     },
     "metadata": {
      "needs_background": "light"
     },
     "output_type": "display_data"
    }
   ],
   "source": [
    "plt.figure(figsize = (10,10))\n",
    "plt.semilogy(overall_best_cost)\n",
    "plt.xlim([0, iterations])\n",
    "plt.title(\"PSO without Informants\", fontsize = 20)"
   ]
  },
  {
   "cell_type": "code",
   "execution_count": 16,
   "metadata": {},
   "outputs": [
    {
     "data": {
      "text/plain": [
       "2.922372131128654e-187"
      ]
     },
     "execution_count": 16,
     "metadata": {},
     "output_type": "execute_result"
    }
   ],
   "source": [
    "gbest_cost"
   ]
  },
  {
   "cell_type": "markdown",
   "metadata": {},
   "source": [
    "## PSO with Informants included"
   ]
  },
  {
   "cell_type": "code",
   "execution_count": 17,
   "metadata": {
    "cell_id": "00011-603778ba-de1d-4c63-8e10-04bced8d7415",
    "deepnote_cell_type": "code",
    "tags": []
   },
   "outputs": [],
   "source": [
    "X = np.copy(particles)\n",
    "informants_new = informants.copy()\n",
    "\n",
    "for i in range(iterations):\n",
    "    for j in range(10):\n",
    "        V[j] = w1[i] * V[j] + c1 * np.random.rand(d) * (pbest[j] - X[j])+ c2 * np.random.rand(d) * (lbest[j] - X[j])+ c3 * np.random.rand(d) * (gbest - X[j])\n",
    "\n",
    "        X[j] = X[j] + V[j]\n",
    "\n",
    "        costs[j] = objective_fucntion(X[j])\n",
    "\n",
    "        if costs[j] < pbest_cost[j]:\n",
    "            pbest[j] = X[j]\n",
    "            pbest_cost[j] = costs[j]\n",
    "            if costs[j] < gbest_cost:\n",
    "                gbest = X[j]\n",
    "                gbest_cost = costs[j]\n",
    "    \n",
    "    #update informants \n",
    "    lcosts = np.zeros((n_informants,1))\n",
    "                \n",
    "    for i, p in enumerate(informants_new):   \n",
    "        informants_new[p] = update_informants(informants_indices[p] , X)\n",
    "        lcosts = objective_fucntion_group(informants_new[p])\n",
    "        local_informants = informants_new[p]\n",
    "        if lcosts.min() < lbest_cost[i]:\n",
    "            lbest[i] = local_informants[lcosts.argmin(), :]\n",
    "            lbest_cost[i] = lcosts.min()\n",
    "            \n",
    "    overall_best_cost[i] = gbest_cost\n",
    "      "
   ]
  },
  {
   "cell_type": "code",
   "execution_count": 18,
   "metadata": {},
   "outputs": [
    {
     "data": {
      "text/plain": [
       "array([ 5.09279709e-124,  1.68712815e-123,  5.68051795e-124,\n",
       "       -6.28723826e-124, -4.46644209e-123])"
      ]
     },
     "execution_count": 18,
     "metadata": {},
     "output_type": "execute_result"
    }
   ],
   "source": [
    "pso_local_global = gbest\n",
    "pso_local_global"
   ]
  },
  {
   "cell_type": "code",
   "execution_count": 19,
   "metadata": {},
   "outputs": [
    {
     "data": {
      "text/plain": [
       "Text(0.5, 1.0, 'PSO with Informants')"
      ]
     },
     "execution_count": 19,
     "metadata": {},
     "output_type": "execute_result"
    },
    {
     "data": {
      "image/png": "[encoded data removed]",
      "text/plain": [
       "<Figure size 720x720 with 1 Axes>"
      ]
     },
     "metadata": {
      "needs_background": "light"
     },
     "output_type": "display_data"
    }
   ],
   "source": [
    "plt.figure(figsize = (10,10))\n",
    "plt.semilogy(overall_best_cost)\n",
    "plt.xlim([0, iterations])\n",
    "plt.title(\"PSO with Informants\", fontsize = 20)"
   ]
  },
  {
   "cell_type": "code",
   "execution_count": 20,
   "metadata": {},
   "outputs": [
    {
     "data": {
      "text/plain": [
       "2.377284861761937e-245"
      ]
     },
     "execution_count": 20,
     "metadata": {},
     "output_type": "execute_result"
    }
   ],
   "source": [
    "gbest_cost"
   ]
  },
  {
   "cell_type": "markdown",
   "metadata": {},
   "source": [
    "### Trying different hyperparameters"
   ]
  },
  {
   "cell_type": "code",
   "execution_count": 21,
   "metadata": {},
   "outputs": [],
   "source": [
    "X = np.copy(particles)\n",
    "\n",
    "it = 5000\n",
    "c4 = 0.7\n",
    "c5 = 2\n",
    "c6 = 0.8\n",
    "overall_best_cost = np.zeros((it, 1))\n",
    "\n",
    "for i in range(it):\n",
    "    for j in range(10):\n",
    "        V[j] = w2 * V[j] + c4 * np.random.rand(d) * (pbest[j] - X[j])+ c6 * np.random.rand(d) * (gbest - X[j])\n",
    "\n",
    "        X[j] = X[j] + V[j]\n",
    "\n",
    "        costs[j] = objective_fucntion(X[j])\n",
    "\n",
    "        if costs[j] < pbest_cost[j]:\n",
    "            pbest[j] = X[j]\n",
    "            pbest_cost[j] = costs[j]\n",
    "            if costs[j] < gbest_cost:\n",
    "                gbest = X[j]\n",
    "                gbest_cost = costs[j]\n",
    "    \n",
    "    overall_best_cost[i] = gbest_cost"
   ]
  },
  {
   "cell_type": "code",
   "execution_count": 22,
   "metadata": {},
   "outputs": [
    {
     "data": {
      "text/plain": [
       "Text(0.5, 1.0, 'PSO without Informants')"
      ]
     },
     "execution_count": 22,
     "metadata": {},
     "output_type": "execute_result"
    },
    {
     "data": {
      "image/png": "[encoded data removed]",
      "text/plain": [
       "<Figure size 720x720 with 1 Axes>"
      ]
     },
     "metadata": {
      "needs_background": "light"
     },
     "output_type": "display_data"
    }
   ],
   "source": [
    "plt.figure(figsize = (10,10))\n",
    "plt.semilogy(overall_best_cost)\n",
    "plt.xlim([0, iterations])\n",
    "plt.title(\"PSO without Informants\", fontsize = 20)"
   ]
  },
  {
   "cell_type": "markdown",
   "metadata": {},
   "source": [
    "## <span style='background:yellow'> Training ANN with PSO </span>"
   ]
  },
  {
   "cell_type": "code",
   "execution_count": 23,
   "metadata": {},
   "outputs": [
    {
     "name": "stdout",
     "output_type": "stream",
     "text": [
      "Input Data shape:  (1372, 5)\n"
     ]
    }
   ],
   "source": [
    "df = pd.read_csv('data_banknote_authentication.txt',names=['VAR', 'SKEW', 'Curt', 'Entropy', 'Class'])\n",
    "data = np.array(df)\n",
    "print(\"Input Data shape: \", data.shape)"
   ]
  },
  {
   "cell_type": "code",
   "execution_count": 24,
   "metadata": {},
   "outputs": [
    {
     "name": "stdout",
     "output_type": "stream",
     "text": [
      "X_data shape:  (4, 1372)\n",
      "Y shape:  (1, 1372)\n"
     ]
    }
   ],
   "source": [
    "#input data & target\n",
    "X_data = data[:, :4].T\n",
    "Y = data[:, 4, None].T\n",
    "\n",
    "#ANN layers\n",
    "m = 1372\n",
    "n_x = 4\n",
    "n_h = 5\n",
    "n_y = 1\n",
    "\n",
    "#PSO dimensions & No of particles\n",
    "d_fb = int(n_x*n_h + n_h*n_y + n_h + n_y) #No of dimensions for forward propagation\n",
    "p = int(10)                   #No of particles for forward propagation\n",
    "\n",
    "print(\"X_data shape: \", X_data.shape)\n",
    "print(\"Y shape: \", Y.shape)"
   ]
  },
  {
   "cell_type": "code",
   "execution_count": 25,
   "metadata": {},
   "outputs": [],
   "source": [
    "def initialize_particles(p, d_fb):\n",
    "    fb_particles = np.random.uniform(size = (p, d_fb))\n",
    "    fb_V = np.random.uniform(size = (p, d_fb))\n",
    "    \n",
    "    return fb_particles, fb_V"
   ]
  },
  {
   "cell_type": "code",
   "execution_count": 26,
   "metadata": {},
   "outputs": [],
   "source": [
    "def sigmoid(Z):\n",
    "    return 1/(1+np.exp(-Z))"
   ]
  },
  {
   "cell_type": "code",
   "execution_count": 27,
   "metadata": {},
   "outputs": [],
   "source": [
    "def forward_propagation_one(X_data, one_particle_fb, n_x, n_h, n_y):\n",
    "\n",
    "    W1 = one_particle_fb[0:20].reshape((n_h,n_x))\n",
    "    b1 = one_particle_fb[20:25].reshape((n_h,1))\n",
    "    W2 = one_particle_fb[25:30].reshape((n_y,n_h))\n",
    "    b2 = one_particle_fb[30:31].reshape((n_y,1))\n",
    "\n",
    "    Z1 = np.dot(W1, X_data)+b1\n",
    "    A1 = sigmoid(Z1)\n",
    "    Z2 = np.dot(W2, A1)+b2\n",
    "    A2 = sigmoid(Z2)\n",
    "\n",
    "    return A2"
   ]
  },
  {
   "cell_type": "code",
   "execution_count": 28,
   "metadata": {},
   "outputs": [],
   "source": [
    "def compute_cost(A, Y):\n",
    "\n",
    "    m = Y.shape[1]\n",
    "    \n",
    "    cost = -(1/m) * np.sum(Y * np.log(A) + (1-Y) * np.log(1-A))\n",
    "\n",
    "    return cost"
   ]
  },
  {
   "cell_type": "code",
   "execution_count": 29,
   "metadata": {},
   "outputs": [],
   "source": [
    "def compute_cost_2(A, Y):\n",
    "\n",
    "    m = Y.shape[1]\n",
    "    \n",
    "    cost = (1/m)*np.sum((Y-A)**2)\n",
    "\n",
    "    return cost"
   ]
  },
  {
   "cell_type": "code",
   "execution_count": 30,
   "metadata": {},
   "outputs": [],
   "source": [
    "def compute_accuracy(X_data, Y, one_particle_fb, n_x, n_h, n_y):\n",
    "    \n",
    "    A= forward_propagation_one(X_data, one_particle_fb, n_x, n_h, n_y)\n",
    "    A = np.where(A<0.5, 0, 1)\n",
    "    acc = np.mean(A == Y)\n",
    "\n",
    "    return acc"
   ]
  },
  {
   "cell_type": "markdown",
   "metadata": {},
   "source": [
    "## Training ANN using informed PSO"
   ]
  },
  {
   "cell_type": "markdown",
   "metadata": {},
   "source": [
    "### Using Cross-Entropy as cost function"
   ]
  },
  {
   "cell_type": "code",
   "execution_count": 31,
   "metadata": {},
   "outputs": [],
   "source": [
    "particles_fb = np.random.uniform(size = (p, d_fb))\n",
    "V_fb = np.random.uniform(size = (p, d_fb))\n",
    "\n",
    "costs = np.zeros((p,1))\n",
    "for i, particle in enumerate(particles_fb):\n",
    "    fb_output = forward_propagation_one(X_data, particle, n_x, n_h, n_y)\n",
    "    costs[i] = compute_cost(fb_output, Y)\n",
    "    \n",
    "pbest = np.copy(particles_fb)\n",
    "pbest_cost = np.copy(costs)\n",
    "\n",
    "gbest = pbest[pbest_cost.argmin(), :]\n",
    "gbest_cost = pbest_cost.min()\n",
    "\n",
    "overall_best_cost = np.zeros((iterations, 1))\n",
    "\n",
    "# print(particles_fb, \"\\n\\n\")\n",
    "# print(V_fb)"
   ]
  },
  {
   "cell_type": "code",
   "execution_count": 32,
   "metadata": {},
   "outputs": [],
   "source": [
    "#creating informants for ANN\n",
    "\n",
    "informants_fb = {}\n",
    "for i in range(1, len(particles_fb) +1):\n",
    "    informants_fb[\"p\"+str(i)] = particles_fb[np.random.choice(particles_fb.shape[0], n_informants, replace=False)]\n",
    "    \n",
    "informants_indices_fb = {}\n",
    "for i in range(1, len(particles_fb) +1):\n",
    "    informants_indices_fb[\"p\"+str(i)] = np.random.choice(particles_fb.shape[0], n_informants, replace=False)\n",
    "    \n",
    "\n",
    "#Choosing lbest for each particle\n",
    "\n",
    "lbest = []\n",
    "lbest_cost = []\n",
    "for p in informants_fb:\n",
    "    local_informants_fb = informants_fb[p]\n",
    "    \n",
    "    l_costs = np.zeros((3,1))\n",
    "    for i, l in enumerate(local_informants_fb):\n",
    "        fb_output = forward_propagation_one(X_data, l, n_x, n_h, n_y)\n",
    "        l_costs[i] = compute_cost(fb_output, Y)\n",
    "    \n",
    "    lbest.append(local_informants_fb[l_costs.argmin(), :])\n",
    "    lbest_cost.append(l_costs.min())\n",
    "lbest = np.array(lbest)\n",
    "lbest_cost = np.array(lbest_cost)"
   ]
  },
  {
   "cell_type": "code",
   "execution_count": 33,
   "metadata": {},
   "outputs": [
    {
     "name": "stderr",
     "output_type": "stream",
     "text": [
      "<ipython-input-28-f92a4d38fec1>:5: RuntimeWarning: divide by zero encountered in log\n",
      "  cost = -(1/m) * np.sum(Y * np.log(A) + (1-Y) * np.log(1-A))\n",
      "<ipython-input-28-f92a4d38fec1>:5: RuntimeWarning: invalid value encountered in multiply\n",
      "  cost = -(1/m) * np.sum(Y * np.log(A) + (1-Y) * np.log(1-A))\n",
      "<ipython-input-26-d2ade04057a6>:2: RuntimeWarning: overflow encountered in exp\n",
      "  return 1/(1+np.exp(-Z))\n"
     ]
    },
    {
     "name": "stdout",
     "output_type": "stream",
     "text": [
      "************************************************************\n",
      "Elapsed time for the training is:  17.68942403793335\n"
     ]
    }
   ],
   "source": [
    "# Training ANN with PSO\n",
    "\n",
    "X = np.copy(particles_fb)\n",
    "V = np.copy(V_fb)\n",
    "informants_new = informants_fb.copy()\n",
    "\n",
    "t0 = time.time()\n",
    "\n",
    "for i in range(iterations):\n",
    "    for j in range(10):\n",
    "        V[j] = w1[i] * V[j] + c1 * np.random.rand(d_fb) * (pbest[j] - X[j])+ c2 * np.random.rand(d_fb) * (lbest[j] - X[j])+ c3 * np.random.rand(d_fb) * (gbest - X[j])\n",
    "\n",
    "        X[j] = X[j] + V[j]\n",
    "        \n",
    "        A2 = forward_propagation_one(X_data, X[j], n_x, n_h, n_y)\n",
    "\n",
    "        costs[j] = compute_cost(A2, Y)\n",
    "#         print(costs)\n",
    "        \n",
    "        #Update pbest & gbest\n",
    "        if costs[j] < pbest_cost[j]:\n",
    "            pbest[j] = X[j]\n",
    "            pbest_cost[j] = costs[j]\n",
    "            if costs[j] < gbest_cost:\n",
    "                gbest = X[j]\n",
    "                gbest_cost = costs[j]\n",
    "#         print(gbest_cost)\n",
    "        \n",
    "    #update informants \n",
    "    lcosts = np.zeros((n_informants,1))\n",
    "                \n",
    "    for i, p in enumerate(informants_new):   \n",
    "        informants_new[p] = update_informants(informants_indices_fb[p] , X)\n",
    "        local_informants = informants_new[p]\n",
    "        \n",
    "        #Calculate lcosts\n",
    "        for i, l in enumerate(local_informants_fb):\n",
    "            fb_output = forward_propagation_one(X_data, l, n_x, n_h, n_y)\n",
    "            lcosts[i] = compute_cost(fb_output, Y)\n",
    "        \n",
    "        #Update lbest\n",
    "        if lcosts.min() < lbest_cost[i]:\n",
    "            lbest[i] = local_informants[lcosts.argmin(), :]\n",
    "            lbest_cost[i] = lcosts.min()\n",
    "#     print(gbest_cost)        \n",
    "    overall_best_cost[i] = gbest_cost\n",
    "    \n",
    "t1 = time.time()\n",
    "print(\"*\"*60)\n",
    "print(\"Elapsed time for the training is: \",t1-t0)\n",
    "      "
   ]
  },
  {
   "cell_type": "code",
   "execution_count": 34,
   "metadata": {},
   "outputs": [
    {
     "name": "stderr",
     "output_type": "stream",
     "text": [
      "<ipython-input-26-d2ade04057a6>:2: RuntimeWarning: overflow encountered in exp\n",
      "  return 1/(1+np.exp(-Z))\n"
     ]
    },
    {
     "data": {
      "text/plain": [
       "0.9110787172011662"
      ]
     },
     "execution_count": 34,
     "metadata": {},
     "output_type": "execute_result"
    }
   ],
   "source": [
    "compute_accuracy(X_data, Y, gbest, n_x, n_h, n_y)"
   ]
  },
  {
   "cell_type": "code",
   "execution_count": 35,
   "metadata": {},
   "outputs": [
    {
     "data": {
      "text/plain": [
       "array([0.39647052])"
      ]
     },
     "execution_count": 35,
     "metadata": {},
     "output_type": "execute_result"
    }
   ],
   "source": [
    "gbest_cost"
   ]
  },
  {
   "cell_type": "markdown",
   "metadata": {},
   "source": [
    " #### Trying with different hyperparameters"
   ]
  },
  {
   "cell_type": "code",
   "execution_count": 36,
   "metadata": {},
   "outputs": [
    {
     "name": "stderr",
     "output_type": "stream",
     "text": [
      "<ipython-input-26-d2ade04057a6>:2: RuntimeWarning: overflow encountered in exp\n",
      "  return 1/(1+np.exp(-Z))\n",
      "<ipython-input-28-f92a4d38fec1>:5: RuntimeWarning: divide by zero encountered in log\n",
      "  cost = -(1/m) * np.sum(Y * np.log(A) + (1-Y) * np.log(1-A))\n",
      "<ipython-input-28-f92a4d38fec1>:5: RuntimeWarning: invalid value encountered in multiply\n",
      "  cost = -(1/m) * np.sum(Y * np.log(A) + (1-Y) * np.log(1-A))\n"
     ]
    },
    {
     "name": "stdout",
     "output_type": "stream",
     "text": [
      "************************************************************\n",
      "Elapsed time for the training is:  16.136921405792236\n"
     ]
    }
   ],
   "source": [
    "# Training ANN with PSO\n",
    "\n",
    "X = np.copy(particles_fb)\n",
    "V = np.copy(V_fb)\n",
    "informants_new = informants_fb.copy()\n",
    "\n",
    "c4 = 0.7\n",
    "c5 = 0.5\n",
    "c6 = 0.8\n",
    "\n",
    "t0 = time.time()\n",
    "\n",
    "for i in range(iterations):\n",
    "    for j in range(10):\n",
    "        V[j] = w1[i] * V[j] + c4 * np.random.rand(d_fb) * (pbest[j] - X[j])+ c5 * np.random.rand(d_fb) * (lbest[j] - X[j])+ c6 * np.random.rand(d_fb) * (gbest - X[j])\n",
    "\n",
    "        X[j] = X[j] + V[j]\n",
    "        \n",
    "        A2 = forward_propagation_one(X_data, X[j], n_x, n_h, n_y)\n",
    "\n",
    "        costs[j] = compute_cost(A2, Y)\n",
    "#         print(costs)\n",
    "        \n",
    "        #Update pbest & gbest\n",
    "        if costs[j] < pbest_cost[j]:\n",
    "            pbest[j] = X[j]\n",
    "            pbest_cost[j] = costs[j]\n",
    "            if costs[j] < gbest_cost:\n",
    "                gbest = X[j]\n",
    "                gbest_cost = costs[j]\n",
    "#         print(gbest_cost)\n",
    "        \n",
    "    #update informants \n",
    "    lcosts = np.zeros((n_informants,1))\n",
    "                \n",
    "    for i, p in enumerate(informants_new):   \n",
    "        informants_new[p] = update_informants(informants_indices_fb[p] , X)\n",
    "        local_informants = informants_new[p]\n",
    "        \n",
    "        #Calculate lcosts\n",
    "        for i, l in enumerate(local_informants_fb):\n",
    "            fb_output = forward_propagation_one(X_data, l, n_x, n_h, n_y)\n",
    "            lcosts[i] = compute_cost(fb_output, Y)\n",
    "        \n",
    "        #Update lbest\n",
    "        if lcosts.min() < lbest_cost[i]:\n",
    "            lbest[i] = local_informants[lcosts.argmin(), :]\n",
    "            lbest_cost[i] = lcosts.min()\n",
    "#     print(gbest_cost)        \n",
    "    overall_best_cost[i] = gbest_cost\n",
    "    \n",
    "t1 = time.time()\n",
    "print(\"*\"*60)\n",
    "print(\"Elapsed time for the training is: \",t1-t0)\n",
    "      "
   ]
  },
  {
   "cell_type": "code",
   "execution_count": 37,
   "metadata": {},
   "outputs": [
    {
     "data": {
      "text/plain": [
       "0.8666180758017493"
      ]
     },
     "execution_count": 37,
     "metadata": {},
     "output_type": "execute_result"
    }
   ],
   "source": [
    "compute_accuracy(X_data, Y, gbest, n_x, n_h, n_y)"
   ]
  },
  {
   "cell_type": "code",
   "execution_count": 38,
   "metadata": {},
   "outputs": [
    {
     "data": {
      "text/plain": [
       "array([0.41470815])"
      ]
     },
     "execution_count": 38,
     "metadata": {},
     "output_type": "execute_result"
    }
   ],
   "source": [
    "gbest_cost"
   ]
  },
  {
   "cell_type": "markdown",
   "metadata": {},
   "source": [
    "### Using MSE as a cost function"
   ]
  },
  {
   "cell_type": "code",
   "execution_count": 39,
   "metadata": {},
   "outputs": [],
   "source": [
    "d_fb = int(n_x*n_h + n_h*n_y + n_h + n_y) #No of dimensions for forward propagation\n",
    "p = int(10)\n",
    "particles_fb = np.random.uniform(size = (10, 31))\n",
    "V_fb = np.random.uniform(size = (10, 31))\n",
    "\n",
    "costs = np.zeros((p,1))\n",
    "for i, particle in enumerate(particles_fb):\n",
    "    fb_output = forward_propagation_one(X_data, particle, n_x, n_h, n_y)\n",
    "    costs[i] = compute_cost_2(fb_output, Y)\n",
    "    \n",
    "pbest = np.copy(particles_fb)\n",
    "pbest_cost = np.copy(costs)\n",
    "\n",
    "gbest = pbest[pbest_cost.argmin(), :]\n",
    "gbest_cost = pbest_cost.min()\n",
    "\n",
    "overall_best_cost = np.zeros((iterations, 1))\n",
    "\n",
    "# print(particles_fb, \"\\n\\n\")\n",
    "# print(V_fb)"
   ]
  },
  {
   "cell_type": "code",
   "execution_count": 40,
   "metadata": {},
   "outputs": [],
   "source": [
    "#creating informants for ANN\n",
    "\n",
    "informants_fb = {}\n",
    "for i in range(1, len(particles_fb) +1):\n",
    "    informants_fb[\"p\"+str(i)] = particles_fb[np.random.choice(particles_fb.shape[0], n_informants, replace=False)]\n",
    "    \n",
    "informants_indices_fb = {}\n",
    "for i in range(1, len(particles_fb) +1):\n",
    "    informants_indices_fb[\"p\"+str(i)] = np.random.choice(particles_fb.shape[0], n_informants, replace=False)\n",
    "    \n",
    "\n",
    "#Choosing lbest for each particle\n",
    "\n",
    "lbest = []\n",
    "lbest_cost = []\n",
    "for p in informants_fb:\n",
    "    local_informants_fb = informants_fb[p]\n",
    "    \n",
    "    l_costs = np.zeros((3,1))\n",
    "    for i, l in enumerate(local_informants_fb):\n",
    "        fb_output = forward_propagation_one(X_data, l, n_x, n_h, n_y)\n",
    "        l_costs[i] = compute_cost_2(fb_output, Y)\n",
    "    \n",
    "    lbest.append(local_informants_fb[l_costs.argmin(), :])\n",
    "    lbest_cost.append(l_costs.min())\n",
    "lbest = np.array(lbest)\n",
    "lbest_cost = np.array(lbest_cost)"
   ]
  },
  {
   "cell_type": "code",
   "execution_count": 41,
   "metadata": {},
   "outputs": [
    {
     "name": "stderr",
     "output_type": "stream",
     "text": [
      "<ipython-input-26-d2ade04057a6>:2: RuntimeWarning: overflow encountered in exp\n",
      "  return 1/(1+np.exp(-Z))\n"
     ]
    },
    {
     "name": "stdout",
     "output_type": "stream",
     "text": [
      "************************************************************\n",
      "Elapsed time for the training is:  23.069150924682617\n"
     ]
    }
   ],
   "source": [
    "# Training ANN with PSO\n",
    "\n",
    "X = np.copy(particles_fb)\n",
    "V = np.copy(V_fb)\n",
    "informants_new = informants_fb.copy()\n",
    "\n",
    "t0 = time.time()\n",
    "\n",
    "for i in range(iterations):\n",
    "    for j in range(10):\n",
    "        V[j] = w1[i] * V[j] + c1 * np.random.rand(d_fb) * (pbest[j] - X[j])+ c2 * np.random.rand(d_fb) * (lbest[j] - X[j])+ c3 * np.random.rand(d_fb) * (gbest - X[j])\n",
    "\n",
    "        X[j] = X[j] + V[j]\n",
    "        \n",
    "        A2 = forward_propagation_one(X_data, X[j], n_x, n_h, n_y)\n",
    "\n",
    "        costs[j] = compute_cost_2(A2, Y)\n",
    "#         print(costs)\n",
    "        \n",
    "        #Update pbest & gbest\n",
    "        if costs[j] < pbest_cost[j]:\n",
    "            pbest[j] = X[j]\n",
    "            pbest_cost[j] = costs[j]\n",
    "            if costs[j] < gbest_cost:\n",
    "                gbest = X[j]\n",
    "                gbest_cost = costs[j]\n",
    "#         print(gbest_cost)\n",
    "        \n",
    "    #update informants \n",
    "    lcosts = np.zeros((n_informants,1))\n",
    "                \n",
    "    for i, p in enumerate(informants_new):   \n",
    "        informants_new[p] = update_informants(informants_indices_fb[p] , X)\n",
    "        local_informants = informants_new[p]\n",
    "        \n",
    "        #Calculate lcosts\n",
    "        for i, l in enumerate(local_informants_fb):\n",
    "            fb_output = forward_propagation_one(X_data, l, n_x, n_h, n_y)\n",
    "            lcosts[i] = compute_cost_2(fb_output, Y)\n",
    "        \n",
    "        #Update lbest\n",
    "        if lcosts.min() < lbest_cost[i]:\n",
    "            lbest[i] = local_informants[lcosts.argmin(), :]\n",
    "            lbest_cost[i] = lcosts.min()\n",
    "#     print(gbest_cost)        \n",
    "    overall_best_cost[i] = gbest_cost\n",
    "    \n",
    "t1 = time.time()\n",
    "print(\"*\"*60)\n",
    "print(\"Elapsed time for the training is: \",t1-t0)\n",
    "      "
   ]
  },
  {
   "cell_type": "code",
   "execution_count": 42,
   "metadata": {},
   "outputs": [
    {
     "name": "stderr",
     "output_type": "stream",
     "text": [
      "<ipython-input-26-d2ade04057a6>:2: RuntimeWarning: overflow encountered in exp\n",
      "  return 1/(1+np.exp(-Z))\n"
     ]
    },
    {
     "data": {
      "text/plain": [
       "0.7842565597667639"
      ]
     },
     "execution_count": 42,
     "metadata": {},
     "output_type": "execute_result"
    }
   ],
   "source": [
    "compute_accuracy(X_data, Y, gbest, n_x, n_h, n_y)"
   ]
  },
  {
   "cell_type": "code",
   "execution_count": 43,
   "metadata": {},
   "outputs": [
    {
     "data": {
      "text/plain": [
       "array([0.21574344])"
      ]
     },
     "execution_count": 43,
     "metadata": {},
     "output_type": "execute_result"
    }
   ],
   "source": [
    "gbest_cost"
   ]
  },
  {
   "cell_type": "markdown",
   "metadata": {},
   "source": [
    " ### Trying with different hyperparameters"
   ]
  },
  {
   "cell_type": "code",
   "execution_count": 44,
   "metadata": {},
   "outputs": [
    {
     "name": "stderr",
     "output_type": "stream",
     "text": [
      "<ipython-input-26-d2ade04057a6>:2: RuntimeWarning: overflow encountered in exp\n",
      "  return 1/(1+np.exp(-Z))\n"
     ]
    },
    {
     "name": "stdout",
     "output_type": "stream",
     "text": [
      "************************************************************\n",
      "Elapsed time for the training is:  23.40227246284485\n"
     ]
    }
   ],
   "source": [
    "# Training ANN with PSO\n",
    "\n",
    "X = np.copy(particles_fb)\n",
    "V = np.copy(V_fb)\n",
    "informants_new = informants_fb.copy()\n",
    "\n",
    "c4 = 0.7\n",
    "c5 = 0.5\n",
    "c6 = 0.8\n",
    "\n",
    "t0 = time.time()\n",
    "\n",
    "for i in range(iterations):\n",
    "    for j in range(10):\n",
    "        V[j] = w1[i] * V[j] + c4 * np.random.rand(d_fb) * (pbest[j] - X[j])+ c5 * np.random.rand(d_fb) * (lbest[j] - X[j])+ c6 * np.random.rand(d_fb) * (gbest - X[j])\n",
    "\n",
    "        X[j] = X[j] + V[j]\n",
    "        \n",
    "        A2 = forward_propagation_one(X_data, X[j], n_x, n_h, n_y)\n",
    "\n",
    "        costs[j] = compute_cost_2(A2, Y)\n",
    "#         print(costs)\n",
    "        \n",
    "        #Update pbest & gbest\n",
    "        if costs[j] < pbest_cost[j]:\n",
    "            pbest[j] = X[j]\n",
    "            pbest_cost[j] = costs[j]\n",
    "            if costs[j] < gbest_cost:\n",
    "                gbest = X[j]\n",
    "                gbest_cost = costs[j]\n",
    "#         print(gbest_cost)\n",
    "        \n",
    "    #update informants \n",
    "    lcosts = np.zeros((n_informants,1))\n",
    "                \n",
    "    for i, p in enumerate(informants_new):   \n",
    "        informants_new[p] = update_informants(informants_indices_fb[p] , X)\n",
    "        local_informants = informants_new[p]\n",
    "        \n",
    "        #Calculate lcosts\n",
    "        for i, l in enumerate(local_informants_fb):\n",
    "            fb_output = forward_propagation_one(X_data, l, n_x, n_h, n_y)\n",
    "            lcosts[i] = compute_cost_2(fb_output, Y)\n",
    "        \n",
    "        #Update lbest\n",
    "        if lcosts.min() < lbest_cost[i]:\n",
    "            lbest[i] = local_informants[lcosts.argmin(), :]\n",
    "            lbest_cost[i] = lcosts.min()\n",
    "#     print(gbest_cost)        \n",
    "    overall_best_cost[i] = gbest_cost\n",
    "    \n",
    "t1 = time.time()\n",
    "print(\"*\"*60)\n",
    "print(\"Elapsed time for the training is: \",t1-t0)\n",
    "      "
   ]
  },
  {
   "cell_type": "code",
   "execution_count": 45,
   "metadata": {},
   "outputs": [
    {
     "name": "stderr",
     "output_type": "stream",
     "text": [
      "<ipython-input-26-d2ade04057a6>:2: RuntimeWarning: overflow encountered in exp\n",
      "  return 1/(1+np.exp(-Z))\n"
     ]
    },
    {
     "data": {
      "text/plain": [
       "0.9591836734693877"
      ]
     },
     "execution_count": 45,
     "metadata": {},
     "output_type": "execute_result"
    }
   ],
   "source": [
    "compute_accuracy(X_data, Y, gbest, n_x, n_h, n_y)"
   ]
  },
  {
   "cell_type": "code",
   "execution_count": 46,
   "metadata": {},
   "outputs": [
    {
     "data": {
      "text/plain": [
       "array([0.04081633])"
      ]
     },
     "execution_count": 46,
     "metadata": {},
     "output_type": "execute_result"
    }
   ],
   "source": [
    "gbest_cost"
   ]
  }
 ],
 "metadata": {
  "deepnote": {
   "is_reactive": false
  },
  "deepnote_execution_queue": [],
  "deepnote_notebook_id": "85c92e43-a5db-43e6-b4b6-d387380538fa",
  "kernelspec": {
   "display_name": "Python 3",
   "language": "python",
   "name": "python3"
  },
  "language_info": {
   "codemirror_mode": {
    "name": "ipython",
    "version": 3
   },
   "file_extension": ".py",
   "mimetype": "text/x-python",
   "name": "python",
   "nbconvert_exporter": "python",
   "pygments_lexer": "ipython3",
   "version": "3.8.5"
  }
 },
 "nbformat": 4,
 "nbformat_minor": 2
}
